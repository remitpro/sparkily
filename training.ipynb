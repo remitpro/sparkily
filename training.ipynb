{
 "cells": [
  {
   "cell_type": "code",
   "execution_count": 12,
   "id": "6e6fdbc1",
   "metadata": {},
   "outputs": [],
   "source": [
    "# %pip install 'vanna[chromadb,ollama]'\n",
    "# %pip install 'vanna[chromadb,openai]'"
   ]
  },
  {
   "cell_type": "code",
   "execution_count": 13,
   "id": "001bd452",
   "metadata": {},
   "outputs": [],
   "source": [
    "from vanna.ollama import Ollama\n",
    "from vanna.openai import OpenAI_Chat\n",
    "from vanna.chromadb import ChromaDB_VectorStore"
   ]
  },
  {
   "cell_type": "code",
   "execution_count": 14,
   "id": "a098d728",
   "metadata": {},
   "outputs": [],
   "source": [
    "import os \n",
    "from dotenv import load_dotenv\n",
    "load_dotenv()\n",
    "\n",
    "OPENAI_API_KEY = os.getenv(\"OPENAI_API_KEY\")\n",
    "if not OPENAI_API_KEY:\n",
    "    raise ValueError(\"Please set the OPENAI_API_KEY environment variable.\")\n"
   ]
  },
  {
   "cell_type": "code",
   "execution_count": 15,
   "id": "9741d20c",
   "metadata": {},
   "outputs": [],
   "source": [
    "\n",
    "class MyVanna(ChromaDB_VectorStore, OpenAI_Chat):\n",
    "    def __init__(self, config=None):\n",
    "        ChromaDB_VectorStore.__init__(self, config=config)\n",
    "        OpenAI_Chat.__init__(self, config=config)\n",
    "\n",
    "vn = MyVanna(config={'api_key': OPENAI_API_KEY, 'model': 'gpt-4o'})\n"
   ]
  },
  {
   "cell_type": "code",
   "execution_count": null,
   "id": "8a74b9c9",
   "metadata": {},
   "outputs": [],
   "source": [
    "# vn.connect_to_mssql(odbc_conn_str='DRIVER={ODBC Driver 17 for SQL Server};SERVER=myserver;DATABASE=mydatabase;UID=myuser;PWD=mypassword') # You can use the ODBC connection string here"
   ]
  },
  {
   "cell_type": "code",
   "execution_count": 18,
   "id": "0af2db90",
   "metadata": {},
   "outputs": [
    {
     "data": {
      "text/plain": [
       "Train on Information Schema: Sparkily.stg stg_log_data\n",
       "Train on Information Schema: Sparkily.stg stg_songs\n",
       "Train on Information Schema: Sparkily.dw dim_time\n",
       "Train on Information Schema: Sparkily.dw dim_users\n",
       "Train on Information Schema: Sparkily.dw dim_artists\n",
       "Train on Information Schema: Sparkily.dw dim_songs\n",
       "Train on Information Schema: Sparkily.dw fact_songplays\n",
       "Train on Information Schema: Sparkily.dev log_data\n",
       "Train on Information Schema: Sparkily.dev song_data"
      ]
     },
     "execution_count": 18,
     "metadata": {},
     "output_type": "execute_result"
    }
   ],
   "source": [
    "\n",
    "# The information schema query may need some tweaking depending on your database. This is a good starting point.\n",
    "df_information_schema = vn.run_sql(\"SELECT * FROM INFORMATION_SCHEMA.COLUMNS\")\n",
    "\n",
    "# This will break up the information schema into bite-sized chunks that can be referenced by the LLM\n",
    "plan = vn.get_training_plan_generic(df_information_schema)\n",
    "plan"
   ]
  },
  {
   "cell_type": "code",
   "execution_count": 19,
   "id": "56f1e0d5",
   "metadata": {},
   "outputs": [
    {
     "name": "stderr",
     "output_type": "stream",
     "text": [
      "C:\\Users\\tabdu\\.cache\\chroma\\onnx_models\\all-MiniLM-L6-v2\\onnx.tar.gz: 100%|██████████| 79.3M/79.3M [00:03<00:00, 25.9MiB/s]\n"
     ]
    }
   ],
   "source": [
    "# If you like the plan, then uncomment this and run it to train\n",
    "vn.train(plan=plan)"
   ]
  },
  {
   "cell_type": "code",
   "execution_count": 20,
   "id": "c89e446e",
   "metadata": {},
   "outputs": [
    {
     "name": "stdout",
     "output_type": "stream",
     "text": [
      "Adding ddl: \n",
      "    CREATE TABLE IF NOT EXISTS dw.dim_users (\n",
      "        user_id int NULL,\n",
      "        first_name varchar(16) NULL,\n",
      "        last_name varchar(16) NULL,\n",
      "        gender varchar(16) NULL,\n",
      "        level varchar(16) NULL\n",
      "    )\n",
      "\n"
     ]
    },
    {
     "data": {
      "text/plain": [
       "'4d23a515-27cf-5d89-a91e-e42987545fa2-ddl'"
      ]
     },
     "execution_count": 20,
     "metadata": {},
     "output_type": "execute_result"
    }
   ],
   "source": [
    "vn.train(ddl=\"\"\"\n",
    "    CREATE TABLE IF NOT EXISTS dw.dim_users (\n",
    "        user_id int NULL,\n",
    "        first_name varchar(16) NULL,\n",
    "        last_name varchar(16) NULL,\n",
    "        gender varchar(16) NULL,\n",
    "        level varchar(16) NULL\n",
    "    )\n",
    "\"\"\")\n"
   ]
  },
  {
   "cell_type": "code",
   "execution_count": 21,
   "id": "9e9738da",
   "metadata": {},
   "outputs": [
    {
     "name": "stdout",
     "output_type": "stream",
     "text": [
      "Using model gpt-4o for 138.25 tokens (approx)\n",
      "Question generated with sql: What are the details of songs played in the year 2018, including user information and artist names? \n",
      "Adding SQL...\n"
     ]
    },
    {
     "data": {
      "text/plain": [
       "'c9ec6759-d39f-5c10-9e91-0c9763c3245f-sql'"
      ]
     },
     "execution_count": 21,
     "metadata": {},
     "output_type": "execute_result"
    }
   ],
   "source": [
    "vn.train(sql=\"\"\"\n",
    "SELECT \n",
    "    f.user_agent,\n",
    "    u.first_name,\n",
    "    u.last_name,\n",
    "    s.title,\n",
    "    s.duration,\n",
    "    a.name AS artist_name\n",
    "FROM fact_songplays f\n",
    "JOIN dim_users u ON f.user_id = u.user_id\n",
    "JOIN dim_songs s ON f.song_id = s.song_id\n",
    "JOIN dim_artists a ON f.artist_id = a.artist_id)\n",
    "WHERE f.start_time >= '2018-01-01' AND f.start_time < '2019-01-01'\n",
    "\"\"\")\n"
   ]
  },
  {
   "cell_type": "code",
   "execution_count": 22,
   "id": "5d2a78ba",
   "metadata": {},
   "outputs": [
    {
     "data": {
      "text/plain": [
       "'d1be51ab-0808-5204-98ce-70b5e8a278e0-sql'"
      ]
     },
     "execution_count": 22,
     "metadata": {},
     "output_type": "execute_result"
    }
   ],
   "source": [
    "vn.train(\n",
    "    question=\"which users are listening to what songs, along with artist and song details.?\", \n",
    "    sql=\"\"\"\n",
    "    SELECT \n",
    "        sp.user_agent,\n",
    "        u.first_name,\n",
    "        u.last_name,\n",
    "        s.title,\n",
    "        s.duration,\n",
    "        a.artist_name\n",
    "    FROM dw.fact_songplays AS sp\n",
    "    JOIN dw.dim_users AS u \n",
    "        ON sp.user_id = u.user_id\n",
    "    JOIN dw.dim_songs AS s \n",
    "        ON sp.song_id = s.song_id\n",
    "    JOIN dw.dim_artists AS a \n",
    "        ON sp.artist_id = a.artist_id\n",
    "    \"\"\"\n",
    ")"
   ]
  },
  {
   "cell_type": "code",
   "execution_count": 23,
   "id": "b8c64e08",
   "metadata": {},
   "outputs": [
    {
     "data": {
      "text/html": [
       "<div>\n",
       "<style scoped>\n",
       "    .dataframe tbody tr th:only-of-type {\n",
       "        vertical-align: middle;\n",
       "    }\n",
       "\n",
       "    .dataframe tbody tr th {\n",
       "        vertical-align: top;\n",
       "    }\n",
       "\n",
       "    .dataframe thead th {\n",
       "        text-align: right;\n",
       "    }\n",
       "</style>\n",
       "<table border=\"1\" class=\"dataframe\">\n",
       "  <thead>\n",
       "    <tr style=\"text-align: right;\">\n",
       "      <th></th>\n",
       "      <th>id</th>\n",
       "      <th>question</th>\n",
       "      <th>content</th>\n",
       "      <th>training_data_type</th>\n",
       "    </tr>\n",
       "  </thead>\n",
       "  <tbody>\n",
       "    <tr>\n",
       "      <th>0</th>\n",
       "      <td>c9ec6759-d39f-5c10-9e91-0c9763c3245f-sql</td>\n",
       "      <td>What are the details of songs played in the ye...</td>\n",
       "      <td>\\nSELECT \\n    f.user_agent,\\n    u.first_name...</td>\n",
       "      <td>sql</td>\n",
       "    </tr>\n",
       "    <tr>\n",
       "      <th>1</th>\n",
       "      <td>d1be51ab-0808-5204-98ce-70b5e8a278e0-sql</td>\n",
       "      <td>which users are listening to what songs, along...</td>\n",
       "      <td>\\n    SELECT \\n        sp.user_agent,\\n       ...</td>\n",
       "      <td>sql</td>\n",
       "    </tr>\n",
       "    <tr>\n",
       "      <th>0</th>\n",
       "      <td>4d23a515-27cf-5d89-a91e-e42987545fa2-ddl</td>\n",
       "      <td>None</td>\n",
       "      <td>\\n    CREATE TABLE IF NOT EXISTS dw.dim_users ...</td>\n",
       "      <td>ddl</td>\n",
       "    </tr>\n",
       "    <tr>\n",
       "      <th>0</th>\n",
       "      <td>aa64cfbc-d5d5-51e7-a9e5-cb41698332a6-doc</td>\n",
       "      <td>None</td>\n",
       "      <td>The following columns are in the stg_log_data ...</td>\n",
       "      <td>documentation</td>\n",
       "    </tr>\n",
       "    <tr>\n",
       "      <th>1</th>\n",
       "      <td>f2fccae0-7eda-573c-96a4-eea862b76da6-doc</td>\n",
       "      <td>None</td>\n",
       "      <td>The following columns are in the stg_songs tab...</td>\n",
       "      <td>documentation</td>\n",
       "    </tr>\n",
       "    <tr>\n",
       "      <th>2</th>\n",
       "      <td>5a5b8154-4f3e-53a1-ad70-78b1c4f465c5-doc</td>\n",
       "      <td>None</td>\n",
       "      <td>The following columns are in the dim_time tabl...</td>\n",
       "      <td>documentation</td>\n",
       "    </tr>\n",
       "    <tr>\n",
       "      <th>3</th>\n",
       "      <td>65d88c08-019a-595a-86f1-b5edaf580f37-doc</td>\n",
       "      <td>None</td>\n",
       "      <td>The following columns are in the dim_users tab...</td>\n",
       "      <td>documentation</td>\n",
       "    </tr>\n",
       "    <tr>\n",
       "      <th>4</th>\n",
       "      <td>fd3f41b0-94b8-5246-971b-b35223bfa833-doc</td>\n",
       "      <td>None</td>\n",
       "      <td>The following columns are in the dim_artists t...</td>\n",
       "      <td>documentation</td>\n",
       "    </tr>\n",
       "    <tr>\n",
       "      <th>5</th>\n",
       "      <td>aa53e47d-9b07-574e-a790-7f670f801d41-doc</td>\n",
       "      <td>None</td>\n",
       "      <td>The following columns are in the dim_songs tab...</td>\n",
       "      <td>documentation</td>\n",
       "    </tr>\n",
       "    <tr>\n",
       "      <th>6</th>\n",
       "      <td>931aac36-0a98-5100-887a-a337a2e0cfeb-doc</td>\n",
       "      <td>None</td>\n",
       "      <td>The following columns are in the fact_songplay...</td>\n",
       "      <td>documentation</td>\n",
       "    </tr>\n",
       "    <tr>\n",
       "      <th>7</th>\n",
       "      <td>f2b9a024-c4b7-5aa6-900c-32e36648137a-doc</td>\n",
       "      <td>None</td>\n",
       "      <td>The following columns are in the log_data tabl...</td>\n",
       "      <td>documentation</td>\n",
       "    </tr>\n",
       "    <tr>\n",
       "      <th>8</th>\n",
       "      <td>e7746312-77b3-5350-bf3e-0f415c3fa2ec-doc</td>\n",
       "      <td>None</td>\n",
       "      <td>The following columns are in the song_data tab...</td>\n",
       "      <td>documentation</td>\n",
       "    </tr>\n",
       "  </tbody>\n",
       "</table>\n",
       "</div>"
      ],
      "text/plain": [
       "                                         id  \\\n",
       "0  c9ec6759-d39f-5c10-9e91-0c9763c3245f-sql   \n",
       "1  d1be51ab-0808-5204-98ce-70b5e8a278e0-sql   \n",
       "0  4d23a515-27cf-5d89-a91e-e42987545fa2-ddl   \n",
       "0  aa64cfbc-d5d5-51e7-a9e5-cb41698332a6-doc   \n",
       "1  f2fccae0-7eda-573c-96a4-eea862b76da6-doc   \n",
       "2  5a5b8154-4f3e-53a1-ad70-78b1c4f465c5-doc   \n",
       "3  65d88c08-019a-595a-86f1-b5edaf580f37-doc   \n",
       "4  fd3f41b0-94b8-5246-971b-b35223bfa833-doc   \n",
       "5  aa53e47d-9b07-574e-a790-7f670f801d41-doc   \n",
       "6  931aac36-0a98-5100-887a-a337a2e0cfeb-doc   \n",
       "7  f2b9a024-c4b7-5aa6-900c-32e36648137a-doc   \n",
       "8  e7746312-77b3-5350-bf3e-0f415c3fa2ec-doc   \n",
       "\n",
       "                                            question  \\\n",
       "0  What are the details of songs played in the ye...   \n",
       "1  which users are listening to what songs, along...   \n",
       "0                                               None   \n",
       "0                                               None   \n",
       "1                                               None   \n",
       "2                                               None   \n",
       "3                                               None   \n",
       "4                                               None   \n",
       "5                                               None   \n",
       "6                                               None   \n",
       "7                                               None   \n",
       "8                                               None   \n",
       "\n",
       "                                             content training_data_type  \n",
       "0  \\nSELECT \\n    f.user_agent,\\n    u.first_name...                sql  \n",
       "1  \\n    SELECT \\n        sp.user_agent,\\n       ...                sql  \n",
       "0  \\n    CREATE TABLE IF NOT EXISTS dw.dim_users ...                ddl  \n",
       "0  The following columns are in the stg_log_data ...      documentation  \n",
       "1  The following columns are in the stg_songs tab...      documentation  \n",
       "2  The following columns are in the dim_time tabl...      documentation  \n",
       "3  The following columns are in the dim_users tab...      documentation  \n",
       "4  The following columns are in the dim_artists t...      documentation  \n",
       "5  The following columns are in the dim_songs tab...      documentation  \n",
       "6  The following columns are in the fact_songplay...      documentation  \n",
       "7  The following columns are in the log_data tabl...      documentation  \n",
       "8  The following columns are in the song_data tab...      documentation  "
      ]
     },
     "execution_count": 23,
     "metadata": {},
     "output_type": "execute_result"
    }
   ],
   "source": [
    "training_data = vn.get_training_data()\n",
    "training_data"
   ]
  },
  {
   "cell_type": "code",
   "execution_count": 24,
   "id": "01571106",
   "metadata": {},
   "outputs": [
    {
     "name": "stdout",
     "output_type": "stream",
     "text": [
      "Your app is running at:\n",
      "http://localhost:8084\n",
      " * Serving Flask app 'vanna.flask'\n",
      " * Debug mode: on\n"
     ]
    },
    {
     "name": "stderr",
     "output_type": "stream",
     "text": [
      "Number of requested results 10 is greater than number of elements in index 2, updating n_results = 2\n",
      "Number of requested results 10 is greater than number of elements in index 1, updating n_results = 1\n",
      "Number of requested results 10 is greater than number of elements in index 9, updating n_results = 9\n"
     ]
    },
    {
     "name": "stdout",
     "output_type": "stream",
     "text": [
      "Using model gpt-4o for 3037.75 tokens (approx)\n"
     ]
    }
   ],
   "source": [
    "from vanna.flask import VannaFlaskApp\n",
    "app = VannaFlaskApp(vn)\n",
    "app.run()"
   ]
  },
  {
   "cell_type": "code",
   "execution_count": null,
   "id": "0ee1be81",
   "metadata": {},
   "outputs": [],
   "source": []
  }
 ],
 "metadata": {
  "kernelspec": {
   "display_name": ".venv",
   "language": "python",
   "name": "python3"
  },
  "language_info": {
   "codemirror_mode": {
    "name": "ipython",
    "version": 3
   },
   "file_extension": ".py",
   "mimetype": "text/x-python",
   "name": "python",
   "nbconvert_exporter": "python",
   "pygments_lexer": "ipython3",
   "version": "3.10.0"
  }
 },
 "nbformat": 4,
 "nbformat_minor": 5
}
